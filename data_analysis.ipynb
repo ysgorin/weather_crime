{
 "cells": [
  {
   "attachments": {},
   "cell_type": "markdown",
   "metadata": {},
   "source": [
    "#### Create Frequency Distributions - Crimes Per Day"
   ]
  },
  {
   "cell_type": "code",
   "execution_count": 1,
   "metadata": {},
   "outputs": [],
   "source": [
    "# Dependencies\n",
    "import matplotlib.pyplot as plt\n",
    "import pandas as pd\n",
    "import numpy as np\n",
    "import scipy.stats as st\n",
    "import random"
   ]
  },
  {
   "cell_type": "code",
   "execution_count": 2,
   "metadata": {},
   "outputs": [],
   "source": [
    "# Additional Dependencies\n",
    "import statsmodels.api as sm\n",
    "from statsmodels.formula.api import ols"
   ]
  },
  {
   "cell_type": "code",
   "execution_count": 3,
   "metadata": {},
   "outputs": [
    {
     "data": {
      "text/html": [
       "<div>\n",
       "<style scoped>\n",
       "    .dataframe tbody tr th:only-of-type {\n",
       "        vertical-align: middle;\n",
       "    }\n",
       "\n",
       "    .dataframe tbody tr th {\n",
       "        vertical-align: top;\n",
       "    }\n",
       "\n",
       "    .dataframe thead th {\n",
       "        text-align: right;\n",
       "    }\n",
       "</style>\n",
       "<table border=\"1\" class=\"dataframe\">\n",
       "  <thead>\n",
       "    <tr style=\"text-align: right;\">\n",
       "      <th></th>\n",
       "      <th>ID</th>\n",
       "      <th>Start Date</th>\n",
       "      <th>Start Time</th>\n",
       "      <th>Year</th>\n",
       "      <th>Offense Group</th>\n",
       "      <th>offense</th>\n",
       "      <th>Max Temp (f)</th>\n",
       "      <th>Min Temp (f)</th>\n",
       "      <th>Avg Temp (f)</th>\n",
       "      <th>Total Precipitation (in)</th>\n",
       "      <th>Day Condition</th>\n",
       "    </tr>\n",
       "  </thead>\n",
       "  <tbody>\n",
       "    <tr>\n",
       "      <th>0</th>\n",
       "      <td>0</td>\n",
       "      <td>02/19/2022</td>\n",
       "      <td>01:00:00</td>\n",
       "      <td>2022</td>\n",
       "      <td>property</td>\n",
       "      <td>theft f/auto</td>\n",
       "      <td>49.3</td>\n",
       "      <td>30.4</td>\n",
       "      <td>40.5</td>\n",
       "      <td>0.0</td>\n",
       "      <td>Sunny</td>\n",
       "    </tr>\n",
       "    <tr>\n",
       "      <th>1</th>\n",
       "      <td>1</td>\n",
       "      <td>02/19/2022</td>\n",
       "      <td>01:00:00</td>\n",
       "      <td>2022</td>\n",
       "      <td>property</td>\n",
       "      <td>theft/other</td>\n",
       "      <td>49.3</td>\n",
       "      <td>30.4</td>\n",
       "      <td>40.5</td>\n",
       "      <td>0.0</td>\n",
       "      <td>Sunny</td>\n",
       "    </tr>\n",
       "    <tr>\n",
       "      <th>2</th>\n",
       "      <td>2</td>\n",
       "      <td>02/19/2022</td>\n",
       "      <td>02:00:00</td>\n",
       "      <td>2022</td>\n",
       "      <td>property</td>\n",
       "      <td>theft/other</td>\n",
       "      <td>49.3</td>\n",
       "      <td>30.4</td>\n",
       "      <td>40.5</td>\n",
       "      <td>0.0</td>\n",
       "      <td>Sunny</td>\n",
       "    </tr>\n",
       "    <tr>\n",
       "      <th>3</th>\n",
       "      <td>3</td>\n",
       "      <td>02/19/2022</td>\n",
       "      <td>02:00:00</td>\n",
       "      <td>2022</td>\n",
       "      <td>property</td>\n",
       "      <td>theft f/auto</td>\n",
       "      <td>49.3</td>\n",
       "      <td>30.4</td>\n",
       "      <td>40.5</td>\n",
       "      <td>0.0</td>\n",
       "      <td>Sunny</td>\n",
       "    </tr>\n",
       "    <tr>\n",
       "      <th>4</th>\n",
       "      <td>4</td>\n",
       "      <td>02/19/2022</td>\n",
       "      <td>03:40:00</td>\n",
       "      <td>2022</td>\n",
       "      <td>property</td>\n",
       "      <td>burglary</td>\n",
       "      <td>49.3</td>\n",
       "      <td>30.4</td>\n",
       "      <td>40.5</td>\n",
       "      <td>0.0</td>\n",
       "      <td>Sunny</td>\n",
       "    </tr>\n",
       "  </tbody>\n",
       "</table>\n",
       "</div>"
      ],
      "text/plain": [
       "   ID  Start Date Start Time  Year Offense Group       offense  Max Temp (f)  \\\n",
       "0   0  02/19/2022   01:00:00  2022      property  theft f/auto          49.3   \n",
       "1   1  02/19/2022   01:00:00  2022      property   theft/other          49.3   \n",
       "2   2  02/19/2022   02:00:00  2022      property   theft/other          49.3   \n",
       "3   3  02/19/2022   02:00:00  2022      property  theft f/auto          49.3   \n",
       "4   4  02/19/2022   03:40:00  2022      property      burglary          49.3   \n",
       "\n",
       "   Min Temp (f)  Avg Temp (f)  Total Precipitation (in) Day Condition  \n",
       "0          30.4          40.5                       0.0         Sunny  \n",
       "1          30.4          40.5                       0.0         Sunny  \n",
       "2          30.4          40.5                       0.0         Sunny  \n",
       "3          30.4          40.5                       0.0         Sunny  \n",
       "4          30.4          40.5                       0.0         Sunny  "
      ]
     },
     "execution_count": 3,
     "metadata": {},
     "output_type": "execute_result"
    }
   ],
   "source": [
    "# Read merged weather and crime .csv\n",
    "file = 'Resources/weather_crime.csv'\n",
    "weather_crime = pd.read_csv(file)\n",
    "weather_crime.head()"
   ]
  },
  {
   "cell_type": "code",
   "execution_count": 4,
   "metadata": {},
   "outputs": [
    {
     "data": {
      "text/html": [
       "<div>\n",
       "<style scoped>\n",
       "    .dataframe tbody tr th:only-of-type {\n",
       "        vertical-align: middle;\n",
       "    }\n",
       "\n",
       "    .dataframe tbody tr th {\n",
       "        vertical-align: top;\n",
       "    }\n",
       "\n",
       "    .dataframe thead th {\n",
       "        text-align: right;\n",
       "    }\n",
       "</style>\n",
       "<table border=\"1\" class=\"dataframe\">\n",
       "  <thead>\n",
       "    <tr style=\"text-align: right;\">\n",
       "      <th></th>\n",
       "      <th>offense</th>\n",
       "    </tr>\n",
       "    <tr>\n",
       "      <th>Start Date</th>\n",
       "      <th></th>\n",
       "    </tr>\n",
       "  </thead>\n",
       "  <tbody>\n",
       "    <tr>\n",
       "      <th>01/01/2023</th>\n",
       "      <td>72</td>\n",
       "    </tr>\n",
       "    <tr>\n",
       "      <th>01/02/2023</th>\n",
       "      <td>69</td>\n",
       "    </tr>\n",
       "    <tr>\n",
       "      <th>01/03/2023</th>\n",
       "      <td>99</td>\n",
       "    </tr>\n",
       "    <tr>\n",
       "      <th>01/04/2023</th>\n",
       "      <td>88</td>\n",
       "    </tr>\n",
       "    <tr>\n",
       "      <th>01/05/2023</th>\n",
       "      <td>97</td>\n",
       "    </tr>\n",
       "  </tbody>\n",
       "</table>\n",
       "</div>"
      ],
      "text/plain": [
       "            offense\n",
       "Start Date         \n",
       "01/01/2023       72\n",
       "01/02/2023       69\n",
       "01/03/2023       99\n",
       "01/04/2023       88\n",
       "01/05/2023       97"
      ]
     },
     "execution_count": 4,
     "metadata": {},
     "output_type": "execute_result"
    }
   ],
   "source": [
    "# Create table of date and crimes reported count\n",
    "crime_dist = pd.DataFrame(weather_crime.groupby('Start Date').count()['offense'])\n",
    "crime_dist.head()"
   ]
  },
  {
   "cell_type": "code",
   "execution_count": 13,
   "metadata": {},
   "outputs": [
    {
     "data": {
      "image/png": "[encoded data removed]",
      "text/plain": [
       "<Figure size 432x288 with 1 Axes>"
      ]
     },
     "metadata": {
      "needs_background": "light"
     },
     "output_type": "display_data"
    }
   ],
   "source": [
    "# Visualize crimes per day frequency distribution with histogram\n",
    "plt.hist(crime_dist['offense'])\n",
    "plt.xlabel('Total Crimes Per Day')\n",
    "plt.ylabel('Days')\n",
    "plt.title(\"\"\"Total Crimes Per Day\n",
    "Frequency Distribution\"\"\")\n",
    "plt.show()"
   ]
  },
  {
   "attachments": {},
   "cell_type": "markdown",
   "metadata": {},
   "source": [
    "#### Create Frequency Distributions - Temperature"
   ]
  },
  {
   "cell_type": "code",
   "execution_count": 14,
   "metadata": {},
   "outputs": [
    {
     "data": {
      "text/html": [
       "<div>\n",
       "<style scoped>\n",
       "    .dataframe tbody tr th:only-of-type {\n",
       "        vertical-align: middle;\n",
       "    }\n",
       "\n",
       "    .dataframe tbody tr th {\n",
       "        vertical-align: top;\n",
       "    }\n",
       "\n",
       "    .dataframe thead th {\n",
       "        text-align: right;\n",
       "    }\n",
       "</style>\n",
       "<table border=\"1\" class=\"dataframe\">\n",
       "  <thead>\n",
       "    <tr style=\"text-align: right;\">\n",
       "      <th></th>\n",
       "      <th>ID</th>\n",
       "      <th>Date</th>\n",
       "      <th>Max Temp (f)</th>\n",
       "      <th>Min Temp (f)</th>\n",
       "      <th>Avg Temp (f)</th>\n",
       "      <th>Total Precipitation (in)</th>\n",
       "      <th>Day Condition</th>\n",
       "    </tr>\n",
       "  </thead>\n",
       "  <tbody>\n",
       "    <tr>\n",
       "      <th>0</th>\n",
       "      <td>0</td>\n",
       "      <td>2022-02-19</td>\n",
       "      <td>49.3</td>\n",
       "      <td>30.4</td>\n",
       "      <td>40.5</td>\n",
       "      <td>0.00</td>\n",
       "      <td>Sunny</td>\n",
       "    </tr>\n",
       "    <tr>\n",
       "      <th>1</th>\n",
       "      <td>1</td>\n",
       "      <td>2022-02-20</td>\n",
       "      <td>45.3</td>\n",
       "      <td>24.3</td>\n",
       "      <td>34.7</td>\n",
       "      <td>0.00</td>\n",
       "      <td>Sunny</td>\n",
       "    </tr>\n",
       "    <tr>\n",
       "      <th>2</th>\n",
       "      <td>2</td>\n",
       "      <td>2022-02-21</td>\n",
       "      <td>60.3</td>\n",
       "      <td>32.9</td>\n",
       "      <td>47.1</td>\n",
       "      <td>0.00</td>\n",
       "      <td>Overcast</td>\n",
       "    </tr>\n",
       "    <tr>\n",
       "      <th>3</th>\n",
       "      <td>3</td>\n",
       "      <td>2022-02-22</td>\n",
       "      <td>56.7</td>\n",
       "      <td>46.6</td>\n",
       "      <td>53.2</td>\n",
       "      <td>0.02</td>\n",
       "      <td>Light drizzle</td>\n",
       "    </tr>\n",
       "    <tr>\n",
       "      <th>4</th>\n",
       "      <td>4</td>\n",
       "      <td>2022-02-23</td>\n",
       "      <td>66.6</td>\n",
       "      <td>47.7</td>\n",
       "      <td>62.0</td>\n",
       "      <td>0.00</td>\n",
       "      <td>Overcast</td>\n",
       "    </tr>\n",
       "  </tbody>\n",
       "</table>\n",
       "</div>"
      ],
      "text/plain": [
       "   ID        Date  Max Temp (f)  Min Temp (f)  Avg Temp (f)  \\\n",
       "0   0  2022-02-19          49.3          30.4          40.5   \n",
       "1   1  2022-02-20          45.3          24.3          34.7   \n",
       "2   2  2022-02-21          60.3          32.9          47.1   \n",
       "3   3  2022-02-22          56.7          46.6          53.2   \n",
       "4   4  2022-02-23          66.6          47.7          62.0   \n",
       "\n",
       "   Total Precipitation (in)  Day Condition  \n",
       "0                      0.00          Sunny  \n",
       "1                      0.00          Sunny  \n",
       "2                      0.00       Overcast  \n",
       "3                      0.02  Light drizzle  \n",
       "4                      0.00       Overcast  "
      ]
     },
     "execution_count": 14,
     "metadata": {},
     "output_type": "execute_result"
    }
   ],
   "source": [
    "# Read weather dataset and crime .csv\n",
    "weather_file = 'Resources/dc_weather.csv'\n",
    "weather = pd.read_csv(weather_file)\n",
    "weather.head()"
   ]
  },
  {
   "cell_type": "code",
   "execution_count": 15,
   "metadata": {},
   "outputs": [
    {
     "data": {
      "text/html": [
       "<div>\n",
       "<style scoped>\n",
       "    .dataframe tbody tr th:only-of-type {\n",
       "        vertical-align: middle;\n",
       "    }\n",
       "\n",
       "    .dataframe tbody tr th {\n",
       "        vertical-align: top;\n",
       "    }\n",
       "\n",
       "    .dataframe thead th {\n",
       "        text-align: right;\n",
       "    }\n",
       "</style>\n",
       "<table border=\"1\" class=\"dataframe\">\n",
       "  <thead>\n",
       "    <tr style=\"text-align: right;\">\n",
       "      <th></th>\n",
       "      <th>Date</th>\n",
       "    </tr>\n",
       "    <tr>\n",
       "      <th>Avg Temp (f)</th>\n",
       "      <th></th>\n",
       "    </tr>\n",
       "  </thead>\n",
       "  <tbody>\n",
       "    <tr>\n",
       "      <th>18.3</th>\n",
       "      <td>1</td>\n",
       "    </tr>\n",
       "    <tr>\n",
       "      <th>23.5</th>\n",
       "      <td>1</td>\n",
       "    </tr>\n",
       "    <tr>\n",
       "      <th>26.8</th>\n",
       "      <td>1</td>\n",
       "    </tr>\n",
       "    <tr>\n",
       "      <th>27.4</th>\n",
       "      <td>1</td>\n",
       "    </tr>\n",
       "    <tr>\n",
       "      <th>32.1</th>\n",
       "      <td>1</td>\n",
       "    </tr>\n",
       "    <tr>\n",
       "      <th>...</th>\n",
       "      <td>...</td>\n",
       "    </tr>\n",
       "    <tr>\n",
       "      <th>89.3</th>\n",
       "      <td>1</td>\n",
       "    </tr>\n",
       "    <tr>\n",
       "      <th>89.8</th>\n",
       "      <td>2</td>\n",
       "    </tr>\n",
       "    <tr>\n",
       "      <th>90.2</th>\n",
       "      <td>1</td>\n",
       "    </tr>\n",
       "    <tr>\n",
       "      <th>91.4</th>\n",
       "      <td>1</td>\n",
       "    </tr>\n",
       "    <tr>\n",
       "      <th>92.0</th>\n",
       "      <td>1</td>\n",
       "    </tr>\n",
       "  </tbody>\n",
       "</table>\n",
       "<p>270 rows × 1 columns</p>\n",
       "</div>"
      ],
      "text/plain": [
       "              Date\n",
       "Avg Temp (f)      \n",
       "18.3             1\n",
       "23.5             1\n",
       "26.8             1\n",
       "27.4             1\n",
       "32.1             1\n",
       "...            ...\n",
       "89.3             1\n",
       "89.8             2\n",
       "90.2             1\n",
       "91.4             1\n",
       "92.0             1\n",
       "\n",
       "[270 rows x 1 columns]"
      ]
     },
     "execution_count": 15,
     "metadata": {},
     "output_type": "execute_result"
    }
   ],
   "source": [
    "temp_dist = pd.DataFrame(weather.groupby('Avg Temp (f)').count()['Date'])\n",
    "temp_dist"
   ]
  },
  {
   "cell_type": "code",
   "execution_count": 16,
   "metadata": {},
   "outputs": [
    {
     "data": {
      "image/png": "[encoded data removed]",
      "text/plain": [
       "<Figure size 432x288 with 1 Axes>"
      ]
     },
     "metadata": {
      "needs_background": "light"
     },
     "output_type": "display_data"
    }
   ],
   "source": [
    "# Visualize temperature distribution with histogram\n",
    "plt.hist(temp_dist['Date'])\n",
    "plt.xlabel('Temperature')\n",
    "plt.ylabel('Days')\n",
    "plt.title(\"\"\"Daily Average Temperature (f)\n",
    "Frequency Distribution\"\"\")\n",
    "plt.show()"
   ]
  }
 ],
 "metadata": {
  "kernelspec": {
   "display_name": "PythonData",
   "language": "python",
   "name": "python3"
  },
  "language_info": {
   "codemirror_mode": {
    "name": "ipython",
    "version": 3
   },
   "file_extension": ".py",
   "mimetype": "text/x-python",
   "name": "python",
   "nbconvert_exporter": "python",
   "pygments_lexer": "ipython3",
   "version": "3.7.7"
  },
  "orig_nbformat": 4,
  "vscode": {
   "interpreter": {
    "hash": "85eaec2d7e4e45e8ea9abb8c82b937cf6b1d935ea65c4c8c2e9ae58a95df3fba"
   }
  }
 },
 "nbformat": 4,
 "nbformat_minor": 2
}
